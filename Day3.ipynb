{
 "cells": [
  {
   "cell_type": "code",
   "execution_count": 108,
   "id": "d90fe791",
   "metadata": {},
   "outputs": [],
   "source": [
    "# list  - ordered, mutable or dynamic data structure with muliple data types. \n",
    "\n",
    "list= [1,2,3,'python',0.5,True, False]"
   ]
  },
  {
   "cell_type": "code",
   "execution_count": 109,
   "id": "1be314d1",
   "metadata": {},
   "outputs": [
    {
     "name": "stdout",
     "output_type": "stream",
     "text": [
      "[1, 2, 3, 'python', 0.5, True, False]\n"
     ]
    },
    {
     "data": {
      "text/plain": [
       "True"
      ]
     },
     "execution_count": 109,
     "metadata": {},
     "output_type": "execute_result"
    }
   ],
   "source": [
    "#list[99]\n",
    "print(list)\n",
    "list[-1]\n",
    "list[5]"
   ]
  },
  {
   "cell_type": "code",
   "execution_count": 110,
   "id": "66229e5a",
   "metadata": {},
   "outputs": [
    {
     "name": "stdout",
     "output_type": "stream",
     "text": [
      "[1, 2, 0, 'python', 0.5, True, False]\n"
     ]
    }
   ],
   "source": [
    "list[2]=0\n",
    "print(list)"
   ]
  },
  {
   "cell_type": "code",
   "execution_count": 111,
   "id": "e75af23e",
   "metadata": {},
   "outputs": [],
   "source": [
    "list.append('New Data')\n"
   ]
  },
  {
   "cell_type": "code",
   "execution_count": 112,
   "id": "49007b87",
   "metadata": {},
   "outputs": [
    {
     "name": "stdout",
     "output_type": "stream",
     "text": [
      "[1, 2, 0, 'python', 0.5, True, False, 'New Data']\n"
     ]
    }
   ],
   "source": [
    "print(list)"
   ]
  },
  {
   "cell_type": "code",
   "execution_count": 113,
   "id": "fc7fceaf",
   "metadata": {},
   "outputs": [],
   "source": [
    "list.insert(3,99)"
   ]
  },
  {
   "cell_type": "code",
   "execution_count": 114,
   "id": "ccdcabce",
   "metadata": {},
   "outputs": [
    {
     "name": "stdout",
     "output_type": "stream",
     "text": [
      "[1, 2, 0, 99, 'python', 0.5, True, False, 'New Data']\n"
     ]
    }
   ],
   "source": [
    "print(list)"
   ]
  },
  {
   "cell_type": "code",
   "execution_count": 115,
   "id": "e405766e",
   "metadata": {},
   "outputs": [
    {
     "name": "stdout",
     "output_type": "stream",
     "text": [
      "[1, 2, 0, 99, 0.5, True, False, 'New Data']\n"
     ]
    }
   ],
   "source": [
    "list.remove('python')\n",
    "print(list)"
   ]
  },
  {
   "cell_type": "code",
   "execution_count": 116,
   "id": "16cff439",
   "metadata": {},
   "outputs": [
    {
     "data": {
      "text/plain": [
       "0"
      ]
     },
     "execution_count": 116,
     "metadata": {},
     "output_type": "execute_result"
    }
   ],
   "source": [
    "list.pop(2)"
   ]
  },
  {
   "cell_type": "code",
   "execution_count": 117,
   "id": "26adcec7",
   "metadata": {},
   "outputs": [
    {
     "name": "stdout",
     "output_type": "stream",
     "text": [
      "[1, 2, 99, 0.5, True, False, 'New Data']\n"
     ]
    }
   ],
   "source": [
    "print(list)"
   ]
  },
  {
   "cell_type": "code",
   "execution_count": 118,
   "id": "416b959b",
   "metadata": {},
   "outputs": [
    {
     "name": "stdout",
     "output_type": "stream",
     "text": [
      "[1, 2, 3]\n",
      "[1, 2, 3]\n"
     ]
    }
   ],
   "source": [
    "newlist = [1,2,3]\n",
    "copied_list = newlist.copy()\n",
    "print(newlist)\n",
    "print(copied_list)"
   ]
  },
  {
   "cell_type": "code",
   "execution_count": 119,
   "id": "7ca8731d",
   "metadata": {},
   "outputs": [
    {
     "name": "stdout",
     "output_type": "stream",
     "text": [
      "[1, 2, 3]\n"
     ]
    }
   ],
   "source": [
    "newlist.append('data')\n",
    "print(copied_list)"
   ]
  },
  {
   "cell_type": "code",
   "execution_count": 120,
   "id": "e68a0cfb",
   "metadata": {},
   "outputs": [
    {
     "name": "stdout",
     "output_type": "stream",
     "text": [
      "[1, 0, 1]\n",
      "[1, 0, 1]\n"
     ]
    }
   ],
   "source": [
    "newlist2= [1,0,1]\n",
    "copied_list2 = newlist2\n",
    "print(newlist2)\n",
    "print(copied_list2)"
   ]
  },
  {
   "cell_type": "code",
   "execution_count": 121,
   "id": "78297b32",
   "metadata": {},
   "outputs": [
    {
     "name": "stdout",
     "output_type": "stream",
     "text": [
      "[1, 0, 1, 'data2']\n"
     ]
    }
   ],
   "source": [
    "newlist2.append('data2')\n",
    "print(copied_list2)"
   ]
  },
  {
   "cell_type": "code",
   "execution_count": 122,
   "id": "17adf88c",
   "metadata": {},
   "outputs": [
    {
     "name": "stdout",
     "output_type": "stream",
     "text": [
      "1\n",
      "2\n",
      "99\n",
      "0.5\n",
      "True\n",
      "False\n",
      "New Data\n"
     ]
    }
   ],
   "source": [
    "for i in list:\n",
    "    print(i)"
   ]
  },
  {
   "cell_type": "code",
   "execution_count": 123,
   "id": "7aa24589",
   "metadata": {},
   "outputs": [],
   "source": [
    "#for i in list:\n",
    "   # if(type(i)==int):\n",
    "       # list.append(i**2)"
   ]
  },
  {
   "cell_type": "code",
   "execution_count": 124,
   "id": "5a7b4418",
   "metadata": {},
   "outputs": [],
   "source": [
    "#list = [i*2 for i in list if(type(i)==int)]"
   ]
  },
  {
   "cell_type": "code",
   "execution_count": 125,
   "id": "5ea643ae",
   "metadata": {},
   "outputs": [
    {
     "name": "stdout",
     "output_type": "stream",
     "text": [
      "[1, 2, 99, 0.5, True, False, 'New Data']\n"
     ]
    }
   ],
   "source": [
    "print(list)"
   ]
  },
  {
   "cell_type": "code",
   "execution_count": 126,
   "id": "c1f3fc08",
   "metadata": {},
   "outputs": [
    {
     "name": "stdout",
     "output_type": "stream",
     "text": [
      "5 3\n",
      "3 5\n"
     ]
    }
   ],
   "source": [
    "a,b = 5,3\n",
    "print(a,b)\n",
    "print(b,a)"
   ]
  },
  {
   "cell_type": "code",
   "execution_count": 127,
   "id": "cde1ecc5",
   "metadata": {},
   "outputs": [],
   "source": [
    "numlist = [55,32,85,1,16,7,0,22,41]\n",
    "\n",
    "\n",
    "for i in range (len(numlist)-1):\n",
    "    for j in range(i+1, len(numlist)):\n",
    "        if numlist[i]>numlist[j]:\n",
    "            numlist[i], numlist[j] = numlist[j], numlist[i]"
   ]
  },
  {
   "cell_type": "code",
   "execution_count": 128,
   "id": "2295455c",
   "metadata": {},
   "outputs": [
    {
     "name": "stdout",
     "output_type": "stream",
     "text": [
      "[0, 1, 7, 16, 22, 32, 41, 55, 85]\n"
     ]
    }
   ],
   "source": [
    "print(numlist)"
   ]
  },
  {
   "cell_type": "code",
   "execution_count": 129,
   "id": "ec115837",
   "metadata": {},
   "outputs": [
    {
     "name": "stdout",
     "output_type": "stream",
     "text": [
      "[[[1, 2, 3, 4, 5], [6, 7, 8, 9]], [[3, 4, 5, 7, 5], [7, 5, 4, 3, 6]], [[4, 6, 8, 4, 5], [6, 78, 64, 6, 7]]]\n"
     ]
    }
   ],
   "source": [
    "matrix = [[[1,2,3,4,5],[6,7,8,9]],\n",
    "          [[3,4,5,7,5],[7,5,4,3,6]],\n",
    "          [[4,6,8,4,5],[6,78,64,6,7]]]\n",
    "\n",
    "\n",
    "\n",
    "print(matrix)"
   ]
  },
  {
   "cell_type": "code",
   "execution_count": 131,
   "id": "de7a4259",
   "metadata": {},
   "outputs": [
    {
     "data": {
      "text/plain": [
       "0"
      ]
     },
     "execution_count": 131,
     "metadata": {},
     "output_type": "execute_result"
    }
   ],
   "source": [
    "# tuple - immutable, ordered collection of data\n",
    "\n",
    "tuple = ()\n",
    "tuple.count(0)"
   ]
  },
  {
   "cell_type": "code",
   "execution_count": 132,
   "id": "3c179884",
   "metadata": {},
   "outputs": [
    {
     "name": "stdout",
     "output_type": "stream",
     "text": [
      "1\n",
      "50\n",
      "6\n",
      "22\n",
      "8\n",
      "14\n"
     ]
    }
   ],
   "source": [
    "# set - unordered, mutable and contains unique data\n",
    "\n",
    "set={1,50,22,14,8,6,14,22,6,1}\n",
    "\n",
    "\n",
    "for i in set:\n",
    "    print(i)"
   ]
  },
  {
   "cell_type": "code",
   "execution_count": 133,
   "id": "9aa8563f",
   "metadata": {},
   "outputs": [
    {
     "name": "stdout",
     "output_type": "stream",
     "text": [
      "{1, 2, 3, 4, 5, 6, 8, 9, 10}\n",
      "{1, 5, 6}\n",
      "{2, 3, 4}\n",
      "{2, 3, 4, 8, 9, 10}\n"
     ]
    }
   ],
   "source": [
    "s1 = {1,2,3,4,5,6}\n",
    "s2 = {5,1,8,6,9,10}\n",
    "\n",
    "print(s1.union(s2))\n",
    "print(s1.intersection(s2))\n",
    "print(s1.difference(s2))\n",
    "print(s1.symmetric_difference(s2))"
   ]
  },
  {
   "cell_type": "code",
   "execution_count": 146,
   "id": "dd42ec97",
   "metadata": {},
   "outputs": [
    {
     "name": "stdout",
     "output_type": "stream",
     "text": [
      "['abc', 'bcd', 'cde', 'def', 'efg', 'fgh', 'ghi', 'hij', 'ijk', 'jkl', 'klm', 'lmn', 'mno', 'nop', 'opq', 'pqr', 'qrs', 'rst', 'stu', 'tuv', 'uvw', 'vwx', 'wxy', 'xyz', 'yz', 'z']\n"
     ]
    }
   ],
   "source": [
    "# dictionary -  key value pair.\n",
    "\n",
    "str = 'abcdefghijklmnopqrstuvwxyz'\n",
    "list=[]\n",
    "length = len(str)\n",
    "\n",
    "for i in (range(length)):\n",
    "    list.append(str[i:i+3])\n",
    "print(list)"
   ]
  }
 ],
 "metadata": {
  "kernelspec": {
   "display_name": "Python 3",
   "language": "python",
   "name": "python3"
  },
  "language_info": {
   "codemirror_mode": {
    "name": "ipython",
    "version": 3
   },
   "file_extension": ".py",
   "mimetype": "text/x-python",
   "name": "python",
   "nbconvert_exporter": "python",
   "pygments_lexer": "ipython3",
   "version": "3.10.0"
  }
 },
 "nbformat": 4,
 "nbformat_minor": 5
}
