{
 "cells": [
  {
   "cell_type": "code",
   "execution_count": 1,
   "id": "45ee2e47",
   "metadata": {},
   "outputs": [],
   "source": [
    "sub = \"PYTHON\""
   ]
  },
  {
   "cell_type": "code",
   "execution_count": 2,
   "id": "5fd0f485",
   "metadata": {},
   "outputs": [
    {
     "data": {
      "text/plain": [
       "'-6-5-4-3-2-1'"
      ]
     },
     "execution_count": 2,
     "metadata": {},
     "output_type": "execute_result"
    }
   ],
   "source": [
    "\" P Y T H O N\"\n",
    "\" 0 1 2 3 4 5\"\n",
    "\"-6-5-4-3-2-1\""
   ]
  },
  {
   "cell_type": "code",
   "execution_count": 3,
   "id": "b4408717",
   "metadata": {},
   "outputs": [
    {
     "data": {
      "text/plain": [
       "'YT'"
      ]
     },
     "execution_count": 3,
     "metadata": {},
     "output_type": "execute_result"
    }
   ],
   "source": [
    "sub[2]\n",
    "\n",
    "sub[1:3]"
   ]
  },
  {
   "cell_type": "code",
   "execution_count": 4,
   "id": "5f42f860",
   "metadata": {},
   "outputs": [
    {
     "name": "stdout",
     "output_type": "stream",
     "text": [
      "Welcome to Python class\n",
      "lcome to Pyt\n",
      "l\n",
      "s\n",
      "\n",
      "syl\n"
     ]
    }
   ],
   "source": [
    "string = \"Welcome to Python class\"\n",
    "\n",
    "print(string[:])\n",
    "print(string[2:14])\n",
    "print(string[2:5:10])\n",
    "print(string[-2])\n",
    "print(string[-2:5])\n",
    "print(string[::-10])\n"
   ]
  },
  {
   "cell_type": "code",
   "execution_count": 5,
   "id": "460eae50",
   "metadata": {},
   "outputs": [
    {
     "name": "stdout",
     "output_type": "stream",
     "text": [
      "The Given string is a Palindrome\n"
     ]
    }
   ],
   "source": [
    "#Palindrome\n",
    "\n",
    "str = input(\"Enter the String\")\n",
    "if str[:].lower() == str[::-1].lower():\n",
    "    print(\"The Given string is a Palindrome\")\n",
    "else:\n",
    "    print(\"Try Again\")"
   ]
  },
  {
   "cell_type": "code",
   "execution_count": 6,
   "id": "317fb4d3",
   "metadata": {},
   "outputs": [
    {
     "name": "stdout",
     "output_type": "stream",
     "text": [
      "HELLO BRO.\n",
      "hello bro.\n",
      "Hello Bro.\n",
      "Hello bro.\n",
      "hello bro.\n",
      "hELLO BrO.\n"
     ]
    }
   ],
   "source": [
    "Message = \"Hello bRo.\"\n",
    "\n",
    "print(Message.upper())\n",
    "print(Message.lower())\n",
    "print(Message.title())\n",
    "print(Message.capitalize())\n",
    "print(Message.casefold())\n",
    "print(Message.swapcase())\n"
   ]
  },
  {
   "cell_type": "code",
   "execution_count": 7,
   "id": "4c61d5ee",
   "metadata": {},
   "outputs": [
    {
     "name": "stdout",
     "output_type": "stream",
     "text": [
      " Amritanshu kumAr \n",
      "4mritanshu kum4r\n",
      "4mritanshu kum4r \n",
      " 4mritanshu kum4r\n",
      "[' 4mritanshu kum4r ']\n"
     ]
    }
   ],
   "source": [
    "str = \" 4mritanshu kum4r \"\n",
    "print(str.replace('4','A'))\n",
    "print(str.strip())\n",
    "print(str.lstrip())\n",
    "print(str.rstrip())\n",
    "print(str.split('.'))\n"
   ]
  },
  {
   "cell_type": "code",
   "execution_count": 8,
   "id": "2875ee0e",
   "metadata": {},
   "outputs": [
    {
     "name": "stdout",
     "output_type": "stream",
     "text": [
      "This is the sentence for line break.\n",
      "Here is the line break.\n"
     ]
    }
   ],
   "source": [
    "string = \"This is the sentence for line break.\\nHere is the line break.\"\n",
    "print(string)"
   ]
  },
  {
   "cell_type": "code",
   "execution_count": 9,
   "id": "5d098c36",
   "metadata": {},
   "outputs": [
    {
     "name": "stdout",
     "output_type": "stream",
     "text": [
      "This is the sentence for line break,\n",
      "Here is the line break,\n"
     ]
    }
   ],
   "source": [
    "print(string.replace('.', ','))"
   ]
  },
  {
   "cell_type": "code",
   "execution_count": 10,
   "id": "7ad5a990",
   "metadata": {},
   "outputs": [
    {
     "name": "stdout",
     "output_type": "stream",
     "text": [
      "Amrit Anshu Ankit\n",
      "AmritAnshuAnkit\n"
     ]
    }
   ],
   "source": [
    "print(\"Amrit\", 'Anshu', \"Ankit\")\n",
    "print(\"Amrit\"+ 'Anshu'+ \"Ankit\")"
   ]
  },
  {
   "cell_type": "code",
   "execution_count": 11,
   "id": "16a3e208",
   "metadata": {},
   "outputs": [
    {
     "name": "stdout",
     "output_type": "stream",
     "text": [
      "The sales value for the month of Jun is Rs.1000000\n"
     ]
    }
   ],
   "source": [
    "month = \"Jun\"\n",
    "sales = 1000000\n",
    "print(\"The sales value for the month of {} is Rs.{}\".format(month,sales))"
   ]
  },
  {
   "cell_type": "code",
   "execution_count": 12,
   "id": "08f54d63",
   "metadata": {},
   "outputs": [
    {
     "data": {
      "text/plain": [
       "'G:/MY'"
      ]
     },
     "execution_count": 12,
     "metadata": {},
     "output_type": "execute_result"
    }
   ],
   "source": [
    "dir = \"G\"\n",
    "subdir = \"MY\"\n",
    "f'{dir}:/{subdir}'"
   ]
  },
  {
   "cell_type": "code",
   "execution_count": 13,
   "id": "78879dbc",
   "metadata": {},
   "outputs": [
    {
     "name": "stdout",
     "output_type": "stream",
     "text": [
      "0\n",
      "1\n",
      "2\n",
      "3\n",
      "4\n",
      "5\n",
      "6\n",
      "7\n",
      "8\n",
      "9\n",
      "10\n",
      "11\n",
      "12\n",
      "13\n",
      "14\n",
      "15\n",
      "16\n",
      "17\n",
      "18\n",
      "19\n",
      "20\n",
      "21\n",
      "22\n",
      "23\n",
      "24\n"
     ]
    }
   ],
   "source": [
    "x=0\n",
    "while(x<30):\n",
    "    print(x)\n",
    "    x+=1 \n",
    "    if(x==15):\n",
    "        continue\n",
    "    if(x==25):\n",
    "        break\n"
   ]
  },
  {
   "cell_type": "code",
   "execution_count": 2,
   "id": "298d9a44",
   "metadata": {},
   "outputs": [
    {
     "name": "stdout",
     "output_type": "stream",
     "text": [
      "Number 0 is a prime number\n",
      "Number 1 is a prime number\n",
      "Number 2 is a prime number\n",
      "Number 3 is a prime number\n",
      "Number 4 is not a prime number\n",
      "Number 5 is a prime number\n",
      "Number 6 is not a prime number\n",
      "Number 7 is a prime number\n",
      "Number 8 is not a prime number\n",
      "Number 9 is not a prime number\n",
      "Number 10 is not a prime number\n",
      "Number 11 is a prime number\n",
      "Number 12 is not a prime number\n",
      "Number 13 is a prime number\n",
      "Number 14 is not a prime number\n",
      "Number 15 is not a prime number\n",
      "Number 16 is not a prime number\n",
      "Number 17 is a prime number\n",
      "Number 18 is not a prime number\n",
      "Number 19 is a prime number\n",
      "Number 20 is not a prime number\n",
      "Number 21 is not a prime number\n",
      "Number 22 is not a prime number\n",
      "Number 23 is a prime number\n",
      "Number 24 is not a prime number\n",
      "Number 25 is not a prime number\n",
      "Number 26 is not a prime number\n",
      "Number 27 is not a prime number\n",
      "Number 28 is not a prime number\n",
      "Number 29 is a prime number\n",
      "Number 30 is not a prime number\n",
      "Number 31 is a prime number\n",
      "Number 32 is not a prime number\n",
      "Number 33 is not a prime number\n",
      "Number 34 is not a prime number\n",
      "Number 35 is not a prime number\n",
      "Number 36 is not a prime number\n",
      "Number 37 is a prime number\n",
      "Number 38 is not a prime number\n",
      "Number 39 is not a prime number\n",
      "Number 40 is not a prime number\n",
      "Number 41 is a prime number\n",
      "Number 42 is not a prime number\n",
      "Number 43 is a prime number\n",
      "Number 44 is not a prime number\n",
      "Number 45 is not a prime number\n",
      "Number 46 is not a prime number\n",
      "Number 47 is a prime number\n",
      "Number 48 is not a prime number\n",
      "Number 49 is not a prime number\n",
      "Number 50 is not a prime number\n",
      "Number 51 is not a prime number\n",
      "Number 52 is not a prime number\n",
      "Number 53 is a prime number\n",
      "Number 54 is not a prime number\n",
      "Number 55 is not a prime number\n",
      "Number 56 is not a prime number\n",
      "Number 57 is not a prime number\n",
      "Number 58 is not a prime number\n",
      "Number 59 is a prime number\n",
      "Number 60 is not a prime number\n",
      "Number 61 is a prime number\n",
      "Number 62 is not a prime number\n",
      "Number 63 is not a prime number\n",
      "Number 64 is not a prime number\n",
      "Number 65 is not a prime number\n",
      "Number 66 is not a prime number\n",
      "Number 67 is a prime number\n",
      "Number 68 is not a prime number\n",
      "Number 69 is not a prime number\n",
      "Number 70 is not a prime number\n",
      "Number 71 is a prime number\n",
      "Number 72 is not a prime number\n",
      "Number 73 is a prime number\n",
      "Number 74 is not a prime number\n",
      "Number 75 is not a prime number\n",
      "Number 76 is not a prime number\n",
      "Number 77 is not a prime number\n",
      "Number 78 is not a prime number\n",
      "Number 79 is a prime number\n",
      "Number 80 is not a prime number\n",
      "Number 81 is not a prime number\n",
      "Number 82 is not a prime number\n",
      "Number 83 is a prime number\n",
      "Number 84 is not a prime number\n",
      "Number 85 is not a prime number\n",
      "Number 86 is not a prime number\n",
      "Number 87 is not a prime number\n",
      "Number 88 is not a prime number\n",
      "Number 89 is a prime number\n",
      "Number 90 is not a prime number\n",
      "Number 91 is not a prime number\n",
      "Number 92 is not a prime number\n",
      "Number 93 is not a prime number\n",
      "Number 94 is not a prime number\n",
      "Number 95 is not a prime number\n",
      "Number 96 is not a prime number\n",
      "Number 97 is a prime number\n",
      "Number 98 is not a prime number\n",
      "Number 99 is not a prime number\n"
     ]
    }
   ],
   "source": [
    "#Prime Number\n",
    "\n",
    "for num in range(100):\n",
    "    flag = False\n",
    "    for i in range(2, num):\n",
    "        if num % i == 0:\n",
    "            flag = True\n",
    "            break\n",
    "\n",
    "    if flag:\n",
    "        print(f'Number {num} is not a prime number')\n",
    "    else:\n",
    "        print(f'Number {num} is a prime number')"
   ]
  },
  {
   "cell_type": "code",
   "execution_count": null,
   "id": "25b857d8",
   "metadata": {},
   "outputs": [
    {
     "name": "stdout",
     "output_type": "stream",
     "text": [
      "2025 is not leap year\n"
     ]
    }
   ],
   "source": [
    "#Leap Year\n",
    "\n",
    "year = int(input(\"Enter the Year \"))\n",
    "if((year%4==0)and(year%100!=0))or(year%400==0):\n",
    "    print(f'{year} is a leap year')\n",
    "else:\n",
    "    print(f'{year} is not leap year')"
   ]
  },
  {
   "cell_type": "code",
   "execution_count": null,
   "id": "e7cd8897",
   "metadata": {},
   "outputs": [
    {
     "name": "stdout",
     "output_type": "stream",
     "text": [
      "num1234 is not \n",
      "num1234 is not \n",
      "num1234 is not \n"
     ]
    }
   ],
   "source": [
    "# Armstrong Number\n",
    "\n",
    "num =  input ('Enter the number')\n",
    "pow  = len(num)\n",
    "sum = 0\n",
    "for i in ( range (len(num)-1)):\n",
    "    sum += int(num)**pow\n",
    "    \n",
    "    if(sum == int(num)):\n",
    "        print (f'{num} is armstrong')\n",
    "    else:\n",
    "        print(f'{num} is not')"
   ]
  },
  {
   "cell_type": "code",
   "execution_count": 6,
   "id": "226f9434",
   "metadata": {},
   "outputs": [
    {
     "name": "stdout",
     "output_type": "stream",
     "text": [
      "370\n",
      "6688\n"
     ]
    }
   ],
   "source": [
    "for num in (range(10000)):\n",
    "    strnum  = str(num)\n",
    "    pow  = len(strnum)\n",
    "    sum = 0\n",
    "    for i in (range(len(strnum)-1)):\n",
    "        sum+=int (strnum[i])**pow\n",
    "        \n",
    "        if(sum==num):\n",
    "            print(num)"
   ]
  }
 ],
 "metadata": {
  "kernelspec": {
   "display_name": "Python 3",
   "language": "python",
   "name": "python3"
  },
  "language_info": {
   "codemirror_mode": {
    "name": "ipython",
    "version": 3
   },
   "file_extension": ".py",
   "mimetype": "text/x-python",
   "name": "python",
   "nbconvert_exporter": "python",
   "pygments_lexer": "ipython3",
   "version": "3.10.0"
  }
 },
 "nbformat": 4,
 "nbformat_minor": 5
}
