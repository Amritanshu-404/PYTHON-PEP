{
 "cells": [
  {
   "cell_type": "code",
   "execution_count": 6,
   "id": "a017318c",
   "metadata": {},
   "outputs": [
    {
     "name": "stdout",
     "output_type": "stream",
     "text": [
      "Result is  10\n"
     ]
    }
   ],
   "source": [
    "class Add(object):\n",
    "    def add(self):\n",
    "        a=int(input(\"Enter num1\"))\n",
    "        b=int(input(\"Enter num2\"))\n",
    "        result = a+b\n",
    "        print(\"Result is \", result)\n",
    "        \n",
    "X=Add()\n",
    "X.add()"
   ]
  },
  {
   "cell_type": "code",
   "execution_count": null,
   "id": "fa43c647",
   "metadata": {},
   "outputs": [],
   "source": [
    "class Sub(object):\n",
    "    def sub(self):\n",
    "        a=int(input(\"Enter num1\"))\n",
    "        b=int(input(\"Enter num2\"))\n",
    "        result = a-b\n",
    "        print(\"Result is \", result)\n",
    "        \n",
    "X=Sub()\n",
    "X.sub()"
   ]
  },
  {
   "cell_type": "code",
   "execution_count": null,
   "id": "7ad0e3c0",
   "metadata": {},
   "outputs": [],
   "source": [
    "class Multiply(object):\n",
    "    def multi(self):\n",
    "        a=int(input(\"Enter num1\"))\n",
    "        b=int(input(\"Enter num2\"))\n",
    "        result = a*b\n",
    "        print(\"Result is \", result)\n",
    "        \n",
    "X=Multiply()\n",
    "X.multi()"
   ]
  }
 ],
 "metadata": {
  "kernelspec": {
   "display_name": "Python 3",
   "language": "python",
   "name": "python3"
  },
  "language_info": {
   "codemirror_mode": {
    "name": "ipython",
    "version": 3
   },
   "file_extension": ".py",
   "mimetype": "text/x-python",
   "name": "python",
   "nbconvert_exporter": "python",
   "pygments_lexer": "ipython3",
   "version": "3.10.0"
  }
 },
 "nbformat": 4,
 "nbformat_minor": 5
}
