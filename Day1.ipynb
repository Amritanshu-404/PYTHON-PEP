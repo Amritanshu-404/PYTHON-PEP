{
 "cells": [
  {
   "cell_type": "code",
   "execution_count": 1,
   "id": "0f42024d",
   "metadata": {},
   "outputs": [
    {
     "name": "stdout",
     "output_type": "stream",
     "text": [
      "Hello World\n"
     ]
    }
   ],
   "source": [
    "print(\"Hello World\")"
   ]
  },
  {
   "cell_type": "code",
   "execution_count": 1,
   "id": "75096d85",
   "metadata": {},
   "outputs": [],
   "source": [
    "a=5\n",
    "b=6"
   ]
  },
  {
   "cell_type": "code",
   "execution_count": 6,
   "id": "25a9bac5",
   "metadata": {},
   "outputs": [
    {
     "name": "stdout",
     "output_type": "stream",
     "text": [
      "True\n"
     ]
    }
   ],
   "source": [
    "print((a!=b) and (b>a))"
   ]
  },
  {
   "cell_type": "code",
   "execution_count": 9,
   "id": "c6bf9c62",
   "metadata": {},
   "outputs": [],
   "source": [
    "base =  int(input(\"Base of Traingle\"))\n",
    "height = int(input(\"Height of the traingle\"))\n",
    "\n",
    "formula = 0.5*base*height"
   ]
  },
  {
   "cell_type": "code",
   "execution_count": 10,
   "id": "2c9ad008",
   "metadata": {},
   "outputs": [
    {
     "name": "stdout",
     "output_type": "stream",
     "text": [
      "5\n",
      "10\n",
      "25\n"
     ]
    }
   ],
   "source": [
    "print(base)\n",
    "print(height)\n",
    "print(int(formula))"
   ]
  },
  {
   "cell_type": "code",
   "execution_count": 11,
   "id": "83082c05",
   "metadata": {},
   "outputs": [
    {
     "name": "stdout",
     "output_type": "stream",
     "text": [
      "num1 5\n",
      "num2 2\n",
      "num1 2\n",
      "num2 5\n"
     ]
    }
   ],
   "source": [
    "a = int(input(\"Variable A\"))\n",
    "b = int(input(\"Variable B\"))\n",
    "\n",
    "print(\"num1\", a)\n",
    "print(\"num2\", b)\n",
    "\n",
    "c=a\n",
    "a=b\n",
    "b=c\n",
    "\n",
    "print(\"num1\", a)\n",
    "print(\"num2\",b)\n"
   ]
  },
  {
   "cell_type": "code",
   "execution_count": null,
   "id": "060ab938",
   "metadata": {},
   "outputs": [
    {
     "name": "stdout",
     "output_type": "stream",
     "text": [
      "1\n",
      "2\n",
      "3\n",
      "5\n",
      "8\n",
      "13\n",
      "21\n",
      "34\n",
      "55\n",
      "89\n",
      "144\n",
      "233\n",
      "377\n",
      "610\n",
      "987\n"
     ]
    }
   ],
   "source": [
    "# fibonacci \n",
    "\n",
    "a=0\n",
    "b=1\n",
    "\n",
    "while(c<20):\n",
    "    sum = a+b\n",
    "    print(sum)\n",
    "    a=b\n",
    "    b=sum\n",
    "    c=c+1"
   ]
  }
 ],
 "metadata": {
  "kernelspec": {
   "display_name": "Python 3",
   "language": "python",
   "name": "python3"
  },
  "language_info": {
   "codemirror_mode": {
    "name": "ipython",
    "version": 3
   },
   "file_extension": ".py",
   "mimetype": "text/x-python",
   "name": "python",
   "nbconvert_exporter": "python",
   "pygments_lexer": "ipython3",
   "version": "3.10.0"
  }
 },
 "nbformat": 4,
 "nbformat_minor": 5
}
