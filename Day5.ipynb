{
 "cells": [
  {
   "cell_type": "code",
   "execution_count": 6,
   "id": "30b770c3",
   "metadata": {},
   "outputs": [],
   "source": [
    "def myfunction(x=2,y=2):\n",
    "    sum=x+y\n",
    "    return sum\n",
    "    "
   ]
  },
  {
   "cell_type": "code",
   "execution_count": 7,
   "id": "13b89a57",
   "metadata": {},
   "outputs": [
    {
     "name": "stdout",
     "output_type": "stream",
     "text": [
      "15\n"
     ]
    }
   ],
   "source": [
    "x=5\n",
    "y=10\n",
    "print(myfunction(x,y))"
   ]
  },
  {
   "cell_type": "code",
   "execution_count": 8,
   "id": "b291605e",
   "metadata": {},
   "outputs": [],
   "source": [
    "def display():\n",
    "    name  = 'Amritanshu '\n",
    "    print(name)\n",
    "    "
   ]
  },
  {
   "cell_type": "code",
   "execution_count": 9,
   "id": "9337509d",
   "metadata": {},
   "outputs": [
    {
     "name": "stdout",
     "output_type": "stream",
     "text": [
      "Amritanshu \n"
     ]
    }
   ],
   "source": [
    "display()"
   ]
  },
  {
   "cell_type": "code",
   "execution_count": 10,
   "id": "151f74e2",
   "metadata": {},
   "outputs": [],
   "source": [
    "def add(y):\n",
    "    sum = 10+y\n",
    "    print(sum)"
   ]
  },
  {
   "cell_type": "code",
   "execution_count": 11,
   "id": "ebf7d3c1",
   "metadata": {},
   "outputs": [
    {
     "name": "stdout",
     "output_type": "stream",
     "text": [
      "20\n"
     ]
    }
   ],
   "source": [
    "add(10)"
   ]
  },
  {
   "cell_type": "code",
   "execution_count": 12,
   "id": "115ed0c5",
   "metadata": {},
   "outputs": [
    {
     "name": "stdout",
     "output_type": "stream",
     "text": [
      "Display Function\n",
      "Show Function\n"
     ]
    }
   ],
   "source": [
    "def disp():\n",
    "    def show():\n",
    "        print('Show Function')\n",
    "    print('Display Function')\n",
    "    show()\n",
    "disp()"
   ]
  },
  {
   "cell_type": "code",
   "execution_count": 15,
   "id": "04e48723",
   "metadata": {},
   "outputs": [
    {
     "name": "stdout",
     "output_type": "stream",
     "text": [
      "<class 'function'>\n",
      "Disp function Show Function\n"
     ]
    }
   ],
   "source": [
    "def  disp(sh):\n",
    "    print(type(sh))\n",
    "    print('Disp function ' + sh())\n",
    "    \n",
    "def show():\n",
    "        return 'Show Function'\n",
    "    \n",
    "disp(show)"
   ]
  },
  {
   "cell_type": "code",
   "execution_count": 16,
   "id": "34371bc1",
   "metadata": {},
   "outputs": [
    {
     "name": "stdout",
     "output_type": "stream",
     "text": [
      "Disp Function\n",
      "Show Function\n"
     ]
    }
   ],
   "source": [
    "def disp():\n",
    "    def show():\n",
    "        return 'Show Function'\n",
    "    print('Disp Function')\n",
    "    return show\n",
    "\n",
    "r_sh = disp()\n",
    "print(r_sh())"
   ]
  },
  {
   "cell_type": "code",
   "execution_count": 21,
   "id": "51c69610",
   "metadata": {},
   "outputs": [
    {
     "data": {
      "text/plain": [
       "9"
      ]
     },
     "execution_count": 21,
     "metadata": {},
     "output_type": "execute_result"
    }
   ],
   "source": [
    "def function(*num):\n",
    "    sum = num[0]+num[1]+num[2]\n",
    "    return sum\n",
    "\n",
    "function(2,3,4)"
   ]
  },
  {
   "cell_type": "code",
   "execution_count": 20,
   "id": "0bcab17d",
   "metadata": {},
   "outputs": [
    {
     "data": {
      "text/plain": [
       "9"
      ]
     },
     "execution_count": 20,
     "metadata": {},
     "output_type": "execute_result"
    }
   ],
   "source": [
    "# ** - key value \n",
    "def function(**num):\n",
    "    sum = num['a']+num['b']+num['c']\n",
    "    return sum\n",
    "\n",
    "function(a=2,b=3,c=4)"
   ]
  },
  {
   "cell_type": "code",
   "execution_count": 22,
   "id": "86dbd490",
   "metadata": {},
   "outputs": [
    {
     "data": {
      "text/plain": [
       "25"
      ]
     },
     "execution_count": 22,
     "metadata": {},
     "output_type": "execute_result"
    }
   ],
   "source": [
    "def func2(*num1, **num2):\n",
    "    sum = num1[0]+num1[1]+num2['a']+num2['b']\n",
    "    return sum\n",
    "func2(4,7,a=6,b=8)"
   ]
  },
  {
   "cell_type": "code",
   "execution_count": 24,
   "id": "233b9f79",
   "metadata": {},
   "outputs": [
    {
     "data": {
      "text/plain": [
       "30"
      ]
     },
     "execution_count": 24,
     "metadata": {},
     "output_type": "execute_result"
    }
   ],
   "source": [
    "def plus(x,y):\n",
    "    sum = x+y\n",
    "    return sum    \n",
    "\n",
    "def func(a,b):\n",
    "    add = plus(a,b)\n",
    "    return add\n",
    "\n",
    "func(a=10, b=20)"
   ]
  },
  {
   "cell_type": "code",
   "execution_count": 25,
   "id": "102a98eb",
   "metadata": {},
   "outputs": [
    {
     "data": {
      "text/plain": [
       "1.5"
      ]
     },
     "execution_count": 25,
     "metadata": {},
     "output_type": "execute_result"
    }
   ],
   "source": [
    "def plus(a,b):\n",
    "    sum  = a+b\n",
    "    return sum\n",
    "\n",
    "def diff(a,b):\n",
    "    sub = a-b\n",
    "    return sub\n",
    "\n",
    "def Div(a,b):\n",
    "    div=plus(a,b)/diff(a,b)\n",
    "    return div\n",
    "\n",
    "Div(a=50, b=10)"
   ]
  },
  {
   "cell_type": "code",
   "execution_count": 36,
   "id": "885e9156",
   "metadata": {},
   "outputs": [
    {
     "name": "stdout",
     "output_type": "stream",
     "text": [
      "10\n",
      "10\n"
     ]
    }
   ],
   "source": [
    "x = 10\n",
    "\n",
    "def fun():\n",
    "    x = 5 \n",
    "    sum = x + x \n",
    "    return sum\n",
    "\n",
    "print(fun())\n",
    "print(x)      \n"
   ]
  },
  {
   "cell_type": "code",
   "execution_count": 37,
   "id": "b463a6d9",
   "metadata": {},
   "outputs": [
    {
     "name": "stdout",
     "output_type": "stream",
     "text": [
      "15\n",
      "15\n"
     ]
    }
   ],
   "source": [
    "x = 10\n",
    "\n",
    "def fun():\n",
    "    global x\n",
    "    x = x + 5\n",
    "    return x\n",
    "\n",
    "print(fun())  \n",
    "print(x)      "
   ]
  },
  {
   "cell_type": "code",
   "execution_count": 35,
   "id": "b8f8a9ee",
   "metadata": {},
   "outputs": [
    {
     "name": "stdout",
     "output_type": "stream",
     "text": [
      "My Function 1\n",
      "My Function 2\n",
      "My Function 3\n",
      "My Function 4\n",
      "My Function 5\n",
      "My Function 6\n",
      "My Function 7\n",
      "My Function 8\n",
      "My Function 9\n",
      "My Function 10\n"
     ]
    }
   ],
   "source": [
    "i = 0\n",
    "\n",
    "def myfun():\n",
    "    global i\n",
    "    if i < 10: \n",
    "        i += 1\n",
    "        print('My Function', i)\n",
    "        myfun()\n",
    "\n",
    "myfun()\n"
   ]
  },
  {
   "cell_type": "code",
   "execution_count": 38,
   "id": "cebf8f06",
   "metadata": {},
   "outputs": [
    {
     "name": "stdout",
     "output_type": "stream",
     "text": [
      "5\n"
     ]
    }
   ],
   "source": [
    "show = lambda x : print(x)\n",
    "show(5)\n",
    "\n",
    "\n"
   ]
  },
  {
   "cell_type": "code",
   "execution_count": null,
   "id": "80124a19",
   "metadata": {},
   "outputs": [
    {
     "data": {
      "text/plain": [
       "'20 is not prime'"
      ]
     },
     "execution_count": 44,
     "metadata": {},
     "output_type": "execute_result"
    }
   ],
   "source": [
    "def isPrime(num):\n",
    "    for i  in (range(2,num)):\n",
    "        if num%i==0:\n",
    "            return f\"{num} is not prime\"\n",
    "            break\n",
    "        else:\n",
    "            return  f\"{num} is prime\"\n",
    "        \n",
    "isPrime(num=20)"
   ]
  },
  {
   "cell_type": "code",
   "execution_count": 1,
   "id": "f2e6d19c",
   "metadata": {},
   "outputs": [
    {
     "name": "stdout",
     "output_type": "stream",
     "text": [
      "Series\n",
      "0\n",
      "1\n"
     ]
    }
   ],
   "source": [
    "def fibo(n):\n",
    "    if n<=1:\n",
    "        return n\n",
    "    else:\n",
    "        return(fibo(n-1)+fibo(n-2))\n",
    "    \n",
    "nterms = int(input(\"Numbers\"))\n",
    "    \n",
    "print('Series')\n",
    "for i in range(nterms):\n",
    "    print(fibo(i))   "
   ]
  },
  {
   "cell_type": "code",
   "execution_count": null,
   "id": "1ccf7822",
   "metadata": {},
   "outputs": [],
   "source": [
    "def armstrong(a):\n",
    "    stra = str(a)\n",
    "    power = len(stra)\n",
    "    sum = 0\n",
    "    for i in range(len(stra)):\n",
    "        sum += int(stra[i]) ** power \n",
    "\n",
    "    if sum == a:\n",
    "        return f'{a} is an Armstrong number'\n",
    "    else:\n",
    "        return f'{a} is not an Armstrong number'\n"
   ]
  },
  {
   "cell_type": "code",
   "execution_count": 12,
   "id": "ec05d952",
   "metadata": {},
   "outputs": [
    {
     "data": {
      "text/plain": [
       "'153 is an Armstrong number'"
      ]
     },
     "execution_count": 12,
     "metadata": {},
     "output_type": "execute_result"
    }
   ],
   "source": [
    "armstrong(153)"
   ]
  }
 ],
 "metadata": {
  "kernelspec": {
   "display_name": "Python 3",
   "language": "python",
   "name": "python3"
  },
  "language_info": {
   "codemirror_mode": {
    "name": "ipython",
    "version": 3
   },
   "file_extension": ".py",
   "mimetype": "text/x-python",
   "name": "python",
   "nbconvert_exporter": "python",
   "pygments_lexer": "ipython3",
   "version": "3.10.0"
  }
 },
 "nbformat": 4,
 "nbformat_minor": 5
}
