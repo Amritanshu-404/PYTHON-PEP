{
 "cells": [
  {
   "cell_type": "code",
   "execution_count": 6,
   "id": "60b1d703",
   "metadata": {},
   "outputs": [
    {
     "name": "stdout",
     "output_type": "stream",
     "text": [
      "LCM for 12 and 18 is 36\n"
     ]
    }
   ],
   "source": [
    "# write program to find the LCM.\n",
    "\n",
    "num1 = int(input(\"Number 1\"))\n",
    "num2 = int(input(\"Number 2\"))\n",
    "\n",
    "greater = 0\n",
    "if num1 > num2:\n",
    "    greater = num1\n",
    "else:\n",
    "    greater = num2\n",
    "\n",
    "while True:\n",
    "    if (greater % num1 == 0) and (greater % num2 == 0):\n",
    "        lcm = greater\n",
    "        break\n",
    "    greater += 1\n",
    "print(f'LCM for {num1} and {num2} is {lcm}')"
   ]
  },
  {
   "cell_type": "code",
   "execution_count": null,
   "id": "21828279",
   "metadata": {},
   "outputs": [],
   "source": [
    "# Program to find HCF\n",
    "\n",
    "num1 = int(input('Enter Number 1: '))\n",
    "num2 = int(input('Enter Number 2: '))\n",
    "\n",
    "if num1 > num2:\n",
    "    smaller = num2\n",
    "else:\n",
    "    smaller = num1\n",
    "\n",
    "for i in range(1, smaller + 1):\n",
    "    if (num1 % i == 0) and (num2 % i == 0):\n",
    "        hcf = i\n",
    "\n",
    "print(f'HCF of {num1} and {num2} is {hcf}')\n"
   ]
  },
  {
   "cell_type": "code",
   "execution_count": null,
   "id": "39bbffe9",
   "metadata": {},
   "outputs": [
    {
     "name": "stdout",
     "output_type": "stream",
     "text": [
      "225\n"
     ]
    }
   ],
   "source": [
    "count = int(input(\"Which Number: \"))\n",
    "sum = 0\n",
    "for i in range(1, count+1):\n",
    "    sum+=i**3\n",
    "    \n",
    "print(sum)"
   ]
  },
  {
   "cell_type": "code",
   "execution_count": null,
   "id": "c1b4daa1",
   "metadata": {},
   "outputs": [],
   "source": []
  }
 ],
 "metadata": {
  "kernelspec": {
   "display_name": "Python 3",
   "language": "python",
   "name": "python3"
  },
  "language_info": {
   "codemirror_mode": {
    "name": "ipython",
    "version": 3
   },
   "file_extension": ".py",
   "mimetype": "text/x-python",
   "name": "python",
   "nbconvert_exporter": "python",
   "pygments_lexer": "ipython3",
   "version": "3.10.0"
  }
 },
 "nbformat": 4,
 "nbformat_minor": 5
}
