{
 "cells": [
  {
   "cell_type": "code",
   "execution_count": 4,
   "id": "90606db1",
   "metadata": {},
   "outputs": [
    {
     "data": {
      "text/plain": [
       "70"
      ]
     },
     "execution_count": 4,
     "metadata": {},
     "output_type": "execute_result"
    }
   ],
   "source": [
    "class math:\n",
    "    def __init__(self):\n",
    "        self.num1=30\n",
    "        self.num2=40\n",
    "        \n",
    "    def add(self):\n",
    "        return self.num1+self.num2\n",
    "    \n",
    "result=math()\n",
    "result.add()"
   ]
  },
  {
   "cell_type": "code",
   "execution_count": 5,
   "id": "2c087ea9",
   "metadata": {},
   "outputs": [
    {
     "data": {
      "text/plain": [
       "120"
      ]
     },
     "execution_count": 5,
     "metadata": {},
     "output_type": "execute_result"
    }
   ],
   "source": [
    "class math:\n",
    "    def __init__(self, num1,num2):\n",
    "        self.num1=num1\n",
    "        self.num2=num2\n",
    "        \n",
    "    def add(self):\n",
    "        return self.num1+self.num2\n",
    "    \n",
    "result=math(90,30)\n",
    "result.add()"
   ]
  },
  {
   "cell_type": "code",
   "execution_count": 17,
   "id": "d03bce94",
   "metadata": {},
   "outputs": [
    {
     "name": "stdout",
     "output_type": "stream",
     "text": [
      "Model: RealMe X and Price: 1000\n"
     ]
    }
   ],
   "source": [
    "class Mobile:\n",
    "    def __init__(self):\n",
    "        self.model='RealMe X'\n",
    "        \n",
    "    def show_model(self):\n",
    "        price=1000\n",
    "        print(\"Model:\",self.model,\"and Price:\",price)\n",
    "    \n",
    "Phone= Mobile()\n",
    "Phone.show_model()\n",
    "        \n"
   ]
  },
  {
   "cell_type": "code",
   "execution_count": 16,
   "id": "91b4dedf",
   "metadata": {},
   "outputs": [
    {
     "name": "stdout",
     "output_type": "stream",
     "text": [
      "Model: Realme and Price: 15000\n"
     ]
    }
   ],
   "source": [
    "class Mobile:\n",
    "    def __init__(self, m):\n",
    "        self.model=m\n",
    "        \n",
    "    def show_model(self, p):\n",
    "        price=p\n",
    "        print(\"Model:\",self.model,\"and Price:\",price)\n",
    "    \n",
    "Phone= Mobile('Realme')\n",
    "Phone.show_model(15000)\n",
    "        \n"
   ]
  },
  {
   "cell_type": "code",
   "execution_count": 18,
   "id": "efe4c998",
   "metadata": {},
   "outputs": [
    {
     "name": "stdout",
     "output_type": "stream",
     "text": [
      "Model: Realme and Price: 15000\n",
      "Nokia\n"
     ]
    }
   ],
   "source": [
    "class Mobile:\n",
    "    def __init__(self, m):\n",
    "        self.model=m\n",
    "        \n",
    "    def show_model(self, p):\n",
    "        price=p\n",
    "        print(\"Model:\",self.model,\"and Price:\",price)\n",
    "    \n",
    "Phone= Mobile('Realme')\n",
    "Phone.show_model(15000)\n",
    "Phone.model='Nokia'\n",
    "print(Phone.model)\n",
    "        \n"
   ]
  },
  {
   "cell_type": "code",
   "execution_count": 24,
   "id": "4fb9c7e6",
   "metadata": {},
   "outputs": [
    {
     "name": "stdout",
     "output_type": "stream",
     "text": [
      "Model: Realme , Volume:  100 and Price: 15000\n"
     ]
    }
   ],
   "source": [
    "class Mobile:\n",
    "    def __init__(self, m, v=80):\n",
    "        self.model=m\n",
    "        self.volume=v\n",
    "        \n",
    "    def show_model(self, p):\n",
    "        price=p\n",
    "        print(\"Model:\",self.model,\", Volume: \", self.volume, \"and Price:\",price)\n",
    "    \n",
    "Phone= Mobile('Realme',100)\n",
    "Phone.show_model(15000)\n",
    "\n",
    "        \n"
   ]
  },
  {
   "cell_type": "code",
   "execution_count": 33,
   "id": "4fcc9966",
   "metadata": {},
   "outputs": [
    {
     "name": "stdout",
     "output_type": "stream",
     "text": [
      "30\n",
      "50\n",
      "60\n"
     ]
    }
   ],
   "source": [
    "class math:\n",
    "    def __init__(self, num1, num2, num3):\n",
    "        self.num1 = num1\n",
    "        self.num2 = num2\n",
    "        self.__num3 = num3  # Private attribute\n",
    "\n",
    "    def set_num3(self, num3):  # Accept num3 as a parameter\n",
    "        self.__num3 = num3\n",
    "\n",
    "    def get_num3(self):\n",
    "        return self.__num3\n",
    "\n",
    "    def add(self):\n",
    "        return self.num1 + self.num2\n",
    "\n",
    "\n",
    "result = math(30, 50, 60)\n",
    "\n",
    "print(result.num1)      \n",
    "print(result.num2)       \n",
    "# print(result.__num3) \n",
    "\n",
    "print(result.get_num3()) \n"
   ]
  },
  {
   "cell_type": "code",
   "execution_count": 40,
   "id": "1b503284",
   "metadata": {},
   "outputs": [
    {
     "name": "stdout",
     "output_type": "stream",
     "text": [
      "Duck walk\n",
      "Horse Walk\n",
      "Cat walk\n"
     ]
    }
   ],
   "source": [
    "class duck:\n",
    "    def walk(self):\n",
    "        print(\"Duck walk\")\n",
    "        \n",
    "class Horse:\n",
    "    def walk(self):\n",
    "        print('Horse Walk')\n",
    "    \n",
    "class Cat:\n",
    "    def walk(self):\n",
    "        print(\"Cat walk\")\n",
    "    \n",
    "def myfunction(obj):\n",
    "    obj.walk()\n",
    "    \n",
    "    \n",
    "d=duck()\n",
    "myfunction(d)\n",
    "h=Horse()\n",
    "myfunction(h)\n",
    "c=Cat()\n",
    "myfunction(c)\n"
   ]
  },
  {
   "cell_type": "code",
   "execution_count": 38,
   "id": "597179a8",
   "metadata": {},
   "outputs": [
    {
     "name": "stdout",
     "output_type": "stream",
     "text": [
      "Duck walk\n",
      "Horse Walk\n",
      "Cat talk\n"
     ]
    }
   ],
   "source": [
    "class duck:\n",
    "    def walk(self):\n",
    "        print(\"Duck walk\")\n",
    "        \n",
    "class Horse:\n",
    "    def walk(self):\n",
    "        print('Horse Walk')\n",
    "    \n",
    "class Cat:\n",
    "    def talk(self):\n",
    "        print(\"Cat talk\")\n",
    "    \n",
    "def myfunction(obj):\n",
    "    obj.walk()\n",
    "    \n",
    "    \n",
    "def myfunction(obj):\n",
    "    if hasattr(obj,'walk'):\n",
    "        obj.walk()\n",
    "    if hasattr(obj,'talk'):\n",
    "        obj.talk()\n",
    "        \n",
    "d=duck()\n",
    "myfunction(d)\n",
    "h=Horse()\n",
    "myfunction(h)\n",
    "c=Cat()\n",
    "myfunction(c)\n",
    "\n",
    "        \n"
   ]
  },
  {
   "cell_type": "code",
   "execution_count": null,
   "id": "a4896cb8",
   "metadata": {},
   "outputs": [],
   "source": []
  }
 ],
 "metadata": {
  "kernelspec": {
   "display_name": "Python 3",
   "language": "python",
   "name": "python3"
  },
  "language_info": {
   "codemirror_mode": {
    "name": "ipython",
    "version": 3
   },
   "file_extension": ".py",
   "mimetype": "text/x-python",
   "name": "python",
   "nbconvert_exporter": "python",
   "pygments_lexer": "ipython3",
   "version": "3.10.0"
  }
 },
 "nbformat": 4,
 "nbformat_minor": 5
}
