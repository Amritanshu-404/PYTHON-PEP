{
 "cells": [
  {
   "cell_type": "code",
   "execution_count": 8,
   "id": "06232896",
   "metadata": {},
   "outputs": [
    {
     "name": "stdout",
     "output_type": "stream",
     "text": [
      "Cannot Divide by Zero\n"
     ]
    }
   ],
   "source": [
    "# Exception Handling 🛠️\n",
    "\n",
    "a=int(input(\"Enter num1\"))\n",
    "b=int(input(\"Enter num2\"))\n",
    "try:\n",
    "    result= int(a/b)\n",
    "    print(result)\n",
    "    print(\"Inside Try\")\n",
    "except ZeroDivisionError:\n",
    "    print(\"Cannot Divide by Zero\")\n",
    "    \n",
    "else:\n",
    "    print(\"Else Code\")\n",
    "    \n"
   ]
  },
  {
   "cell_type": "code",
   "execution_count": 9,
   "id": "6bbdf9a1",
   "metadata": {},
   "outputs": [
    {
     "name": "stdout",
     "output_type": "stream",
     "text": [
      "division by zero\n",
      "Rest of Code\n"
     ]
    }
   ],
   "source": [
    "a=10\n",
    "b=0\n",
    "try:\n",
    "    d=a/b\n",
    "    print(d)\n",
    "    \n",
    "except (NameError, ZeroDivisionError) as obj:\n",
    "    print(obj)\n",
    "    \n",
    "print(\"Rest of Code\")"
   ]
  },
  {
   "cell_type": "code",
   "execution_count": 8,
   "id": "8e39489e",
   "metadata": {},
   "outputs": [
    {
     "name": "stdout",
     "output_type": "stream",
     "text": [
      "You are eligible.\n"
     ]
    }
   ],
   "source": [
    "# Custom Exception 🛠️✍️\n",
    "\n",
    "class TooYoungException(Exception):\n",
    "    def __init__(self, *args):\n",
    "        self.msg = args[0]\n",
    "\n",
    "class TooOldException(Exception):\n",
    "    def __init__(self, *args):\n",
    "        self.msg = args[0]\n",
    "\n",
    "age = int(input(\"Enter Your Age: \"))\n",
    "\n",
    "try:\n",
    "    if age < 18:\n",
    "        raise TooYoungException(\"Please wait till you become eligible.\")\n",
    "    elif age > 60:\n",
    "        raise TooOldException(\"Already passed the age for that work.\")\n",
    "    else:\n",
    "        print(\"You are eligible.\")\n",
    "\n",
    "except (TooYoungException, TooOldException) as e:\n",
    "    print(\"Invalid Age:\", e.msg)\n"
   ]
  },
  {
   "cell_type": "code",
   "execution_count": 17,
   "id": "d8929a5b",
   "metadata": {},
   "outputs": [
    {
     "name": "stdout",
     "output_type": "stream",
     "text": [
      "Data Saved\n"
     ]
    }
   ],
   "source": [
    "# File Handling 📁📂\n",
    "\n",
    "f=open('Student.txt', mode='w')\n",
    "f.write(\"Amritanshu Kumar \\n\")\n",
    "f.write(\"12413909 \\n\")\n",
    "f.write(\"Python \\n\")\n",
    "f.close()\n",
    "print(\"Data Saved\")"
   ]
  },
  {
   "cell_type": "code",
   "execution_count": 18,
   "id": "e27a8f72",
   "metadata": {},
   "outputs": [
    {
     "name": "stdout",
     "output_type": "stream",
     "text": [
      "Amritanshu Kumar \n",
      "12413909 \n",
      "Python \n",
      "\n"
     ]
    }
   ],
   "source": [
    "f=open('Student.txt', mode='r')\n",
    "print(f.read())\n",
    "f.close()"
   ]
  },
  {
   "cell_type": "code",
   "execution_count": 23,
   "id": "f1eb6892",
   "metadata": {},
   "outputs": [
    {
     "name": "stdout",
     "output_type": "stream",
     "text": [
      "Data Saved\n",
      "Your Info.\n",
      "Amritanshu\n",
      "22\n",
      "\n"
     ]
    }
   ],
   "source": [
    "name = input(\"Enter Your Name \")\n",
    "age = int(input(\"Enter your age\"))\n",
    "\n",
    "f=open('My.txt', mode='w')\n",
    "f.write(name+\"\\n\")\n",
    "f.write(str(age)+\"\\n\")\n",
    "f.close()\n",
    "print(\"Data Saved\")\n",
    "\n",
    "f=open('My.txt', mode='r')\n",
    "print(\"Your Info.\")\n",
    "print(f.read())\n",
    "f.close()"
   ]
  },
  {
   "cell_type": "code",
   "execution_count": null,
   "id": "dfb44e5c",
   "metadata": {},
   "outputs": [],
   "source": [
    "# 1.Create 2.Display 3.Raise 4.Exit\n",
    "1.\n",
    "# 1.Enter Your Name(No number), Age(18-60), Designation(Programmar - 25k, Manager - 30k, Tester - 20k)\n",
    "# Want to Continue ? (Y/N)\n",
    "\n",
    "2.\n",
    "# Name, Age, Salary, Designation \n",
    "\n",
    "3.\n",
    "# Enter the name of employee\n",
    "# How many percentage hike - (30%)\n",
    "\n",
    "4.\n",
    "# Exiting Message  - Thank You for Using this Application\n",
    "\n",
    "# Print\n",
    "\n",
    "\n",
    "class Company:\n",
    "    def __init__(self):\n",
    "        print(\"Welcome to the XYZ Company.\")\n",
    "        self.employees = {}\n",
    "        self.menu()\n",
    "\n",
    "    def create_employee(self):\n",
    "        while True:\n",
    "            name = input(\"Enter the Name : \")\n",
    "            if not name.isalpha():\n",
    "                print(\"Invalid name. Please use only alphabets.\")\n",
    "                continue\n",
    "\n",
    "            try:\n",
    "                age = int(input(\"Enter Age (18-60): \"))\n",
    "                if age < 18 or age > 60:\n",
    "                    print(\"Age must be between 18 and 60.\")\n",
    "                    continue\n",
    "            except ValueError:\n",
    "                print(\"Invalid input for age.\")\n",
    "                continue\n",
    "\n",
    "            print(\"Pick Your Designation:\")\n",
    "            print(\"1. Programmer - 25K\")\n",
    "            print(\"2. Manager    - 30K\")\n",
    "            print(\"3. Tester     - 20K\")\n",
    "            choice = input(\"Enter choice (1-3): \")\n",
    "\n",
    "            if choice == '1':\n",
    "                designation = \"Programmer\"\n",
    "                salary = 25000\n",
    "            elif choice == '2':\n",
    "                designation = \"Manager\"\n",
    "                salary = 30000\n",
    "            elif choice == '3':\n",
    "                designation = \"Tester\"\n",
    "                salary = 20000\n",
    "            else:\n",
    "                print(\"Invalid choice. Try again.\")\n",
    "                continue\n",
    "\n",
    "            self.employees[name.lower()] = {\n",
    "                'Name': name,\n",
    "                'Age': age,\n",
    "                'Designation': designation,\n",
    "                'Salary': salary\n",
    "            }\n",
    "\n",
    "            cont = input(\"Do you want to add another employee? (Y/N): \")\n",
    "            if cont.lower() != 'y':\n",
    "                break\n",
    "\n",
    "    def display_info(self):\n",
    "        if not self.employees:\n",
    "            print(\"No employees to display.\")\n",
    "            return\n",
    "\n",
    "        print(\"\\n--- Employee Details ---\")\n",
    "        for emp in self.employees.values():\n",
    "            print(f\"Name: {emp['Name']}, Age: {emp['Age']}, Designation: {emp['Designation']}, Salary: ₹{emp['Salary']}\")\n",
    "\n",
    "    def raise_salary(self):\n",
    "        if not self.employees:\n",
    "            print(\"No employees available.\")\n",
    "            return\n",
    "\n",
    "        name = input(\"Enter the name of the employee: \").lower()\n",
    "        if name not in self.employees:\n",
    "            print(\"Employee not found.\")\n",
    "            return\n",
    "\n",
    "        try:\n",
    "            percent = float(input(\"Enter hike percentage (e.g., 30): \"))\n",
    "            emp = self.employees[name]\n",
    "            hike = emp['Salary'] * (percent / 100)\n",
    "            emp['Salary'] += int(hike)\n",
    "            print(f\"Salary updated! New salary for {emp['Name']}: ₹{emp['Salary']}\")\n",
    "        except ValueError:\n",
    "            print(\"Invalid input for percentage.\")\n",
    "\n",
    "    def menu(self):\n",
    "        while True:\n",
    "            print(\"\\n# 1. Create\\n# 2. Display\\n# 3. Raise\\n# 4. Exit\")\n",
    "            choice = input(\"Enter your choice (1-4): \")\n",
    "\n",
    "            if choice == '1':\n",
    "                self.create_employee()\n",
    "            elif choice == '2':\n",
    "                self.display_info()\n",
    "            elif choice == '3':\n",
    "                self.raise_salary()\n",
    "            elif choice == '4':\n",
    "                print(\"Thank You for Using this Application.\")\n",
    "                break\n",
    "            else:\n",
    "                print(\"Invalid choice. Please try again.\")\n",
    "                \n",
    "Company()\n",
    "\n"
   ]
  },
  {
   "cell_type": "code",
   "execution_count": null,
   "id": "26c3d4c1",
   "metadata": {},
   "outputs": [],
   "source": []
  }
 ],
 "metadata": {
  "kernelspec": {
   "display_name": "Python 3",
   "language": "python",
   "name": "python3"
  },
  "language_info": {
   "codemirror_mode": {
    "name": "ipython",
    "version": 3
   },
   "file_extension": ".py",
   "mimetype": "text/x-python",
   "name": "python",
   "nbconvert_exporter": "python",
   "pygments_lexer": "ipython3",
   "version": "3.10.0"
  }
 },
 "nbformat": 4,
 "nbformat_minor": 5
}
