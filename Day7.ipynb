{
 "cells": [
  {
   "cell_type": "code",
   "execution_count": 1,
   "id": "2e131c43",
   "metadata": {},
   "outputs": [
    {
     "name": "stdout",
     "output_type": "stream",
     "text": [
      "Current Directory is  {'c:\\\\Users\\\\Amrit\\\\Desktop\\\\PEP - PYTHON'}\n"
     ]
    }
   ],
   "source": [
    "import os \n",
    "cwd=os.getcwd()\n",
    "print(\"Current Directory is \", {cwd})"
   ]
  },
  {
   "cell_type": "code",
   "execution_count": 3,
   "id": "7404165b",
   "metadata": {},
   "outputs": [
    {
     "name": "stdout",
     "output_type": "stream",
     "text": [
      "Created Directory {'package'}\n"
     ]
    }
   ],
   "source": [
    "new_dir='package'\n",
    "os.mkdir(\"New Dir\")\n",
    "print(\"Created Directory\", {new_dir})\n",
    "\n"
   ]
  },
  {
   "cell_type": "code",
   "execution_count": 2,
   "id": "c98cdff1",
   "metadata": {},
   "outputs": [
    {
     "name": "stdout",
     "output_type": "stream",
     "text": [
      "['Day1.ipynb', 'Day2.ipynb', 'Day3.ipynb', 'Day4.ipynb', 'Day5.ipynb', 'Day6.ipynb', 'Day7.ipynb']\n"
     ]
    }
   ],
   "source": [
    "items=os.listdir()\n",
    "print(items)"
   ]
  },
  {
   "cell_type": "code",
   "execution_count": 1,
   "id": "25b3109f",
   "metadata": {},
   "outputs": [
    {
     "name": "stdout",
     "output_type": "stream",
     "text": [
      "File 'Test.txt' created and written successfully.\n"
     ]
    }
   ],
   "source": [
    "file_name = input(\"Enter the name of the file to create: \")\n",
    "content = input(\"Enter the content to write into the file: \")\n",
    "\n",
    "with open(file_name, \"w\") as file:\n",
    "    file.write(content)\n",
    "\n",
    "print(f\"File '{file_name}' created and written successfully.\")\n"
   ]
  },
  {
   "cell_type": "code",
   "execution_count": 2,
   "id": "5465ba1b",
   "metadata": {},
   "outputs": [
    {
     "name": "stdout",
     "output_type": "stream",
     "text": [
      "File content:\n",
      "This is the file created and this is the content of the file.\n"
     ]
    }
   ],
   "source": [
    "file_name = input(\"Enter the name of the file to read: \")\n",
    "\n",
    "with open(file_name, \"r\") as file:\n",
    "    content = file.read()\n",
    "\n",
    "print(\"File content:\")\n",
    "print(content)\n"
   ]
  },
  {
   "cell_type": "code",
   "execution_count": null,
   "id": "1f21fc29",
   "metadata": {},
   "outputs": [],
   "source": []
  }
 ],
 "metadata": {
  "kernelspec": {
   "display_name": "Python 3",
   "language": "python",
   "name": "python3"
  },
  "language_info": {
   "codemirror_mode": {
    "name": "ipython",
    "version": 3
   },
   "file_extension": ".py",
   "mimetype": "text/x-python",
   "name": "python",
   "nbconvert_exporter": "python",
   "pygments_lexer": "ipython3",
   "version": "3.10.0"
  }
 },
 "nbformat": 4,
 "nbformat_minor": 5
}
