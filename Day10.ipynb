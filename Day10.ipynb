{
 "cells": [
  {
   "cell_type": "code",
   "execution_count": null,
   "id": "ab042a37",
   "metadata": {},
   "outputs": [],
   "source": [
    "# Simple - Class And Object 😇 \n",
    "class Test(object):\n",
    "    def t(self):\n",
    "        print(\"Hello World 🧑‍💻\")\n",
    "        \n",
    "T=Test()\n",
    "T.t()"
   ]
  },
  {
   "cell_type": "code",
   "execution_count": null,
   "id": "14fe0c8a",
   "metadata": {},
   "outputs": [],
   "source": [
    "#   Use of Constructor 🚧\n",
    "class Test(object):\n",
    "    def __init__(self):\n",
    "        print(\"I am a Constructor. 🚧\")\n",
    "        \n",
    "    def t(self):\n",
    "        print(\"Hello World 🧑‍💻\")\n",
    "        \n",
    "T=Test()\n",
    "T.t()"
   ]
  },
  {
   "cell_type": "code",
   "execution_count": null,
   "id": "04bb3ac7",
   "metadata": {},
   "outputs": [],
   "source": [
    "# Class Work - Bank ATM 🏧 \n",
    "class ATM(object):\n",
    "    def __init__(self):\n",
    "        print(\"Connected to the Bank 🏦. You May Proceed.\")\n",
    "        \n",
    "    def Deposit(self):\n",
    "        money_depo=int(input(\"Enter the Money 💵 to deposit\"))\n",
    "        self.balance = money_depo\n",
    "        print(\"Money Deposited : \", money_depo)  \n",
    "        \n",
    "    def Withdraw(self):\n",
    "        money_drawn=int(input(\"Enter the Money 💵 to Withdraw\"))\n",
    "        if self.balance>money_drawn:\n",
    "            self.balance-=money_drawn\n",
    "            print(\"Money Withdrawn 💵: \",money_drawn)\n",
    "            print(\"Remaining Money 💰: \", self.balance)\n",
    "        else:\n",
    "            print(\"Money Insufficient 🙅‍♂️\")\n",
    "      \n",
    "    def Balance(self):\n",
    "         print(\"Balance 💰 : \", self.balance)\n",
    "        \n",
    "        \n",
    "Atm=ATM() \n",
    "Atm.Deposit()\n",
    "Atm. Withdraw()\n",
    "Atm.Balance()"
   ]
  },
  {
   "cell_type": "code",
   "execution_count": null,
   "id": "3180a043",
   "metadata": {},
   "outputs": [],
   "source": [
    "#OOPS - Inheritance 🧬\n",
    "\n",
    "class Parent(object):\n",
    "    def Parent_Money(self):\n",
    "        self.Money= 5000\n",
    "        print(\"🧔 Parent Money: \", self.Money)\n",
    "\n",
    "\n",
    "class Child(Parent):\n",
    "    def Child_Money(self):\n",
    "        self.money=2000\n",
    "        print(\"👦 Child Money: \", self.money)\n",
    "        \n",
    "        \n",
    "Child=Child()\n",
    "Child.Parent_Money()\n",
    "Child.Child_Money()"
   ]
  },
  {
   "cell_type": "code",
   "execution_count": null,
   "id": "f4d4b7ea",
   "metadata": {},
   "outputs": [],
   "source": [
    "# Abstract Class 🔍\n",
    "\n",
    "from abc import ABC, abstractmethod\n",
    "class Father(ABC):\n",
    "    @abstractmethod\n",
    "    def disp(self): # Abstract Method\n",
    "        pass\n",
    "    def show(self): # Concret Method\n",
    "        print(\"Concret Method\")\n",
    "    \n",
    "class Child(Father):\n",
    "    def disp(Self):\n",
    "        print(\"Defining Abstract Method\")\n",
    "        \n",
    "C=Child()\n",
    "C.disp()\n",
    "C.show()\n"
   ]
  },
  {
   "cell_type": "code",
   "execution_count": null,
   "id": "42341e14",
   "metadata": {},
   "outputs": [],
   "source": [
    "list=[5,6,7,'Amritanshu', True, True, False, \"A\", \"B\"]\n",
    "print(list)\n",
    "\n",
    "list[3]=\"Amrit\"\n",
    "print(list)\n",
    "print(list, id(list))"
   ]
  },
  {
   "cell_type": "code",
   "execution_count": null,
   "id": "bd797f8c",
   "metadata": {},
   "outputs": [],
   "source": [
    "set={10,20,30,'Python', \"LPU\"}\n",
    "print(set)\n",
    "set.remove('Python')\n",
    "set.add('Py')\n",
    "print(set)"
   ]
  },
  {
   "cell_type": "code",
   "execution_count": null,
   "id": "ece38b64",
   "metadata": {},
   "outputs": [],
   "source": [
    "Details={101:'Amritanshu', 'Programming: ': 'Python', 'Duration:':30}\n",
    "print(Details)\n",
    "print(Details[101])\n",
    "print(Details['Duration:'])"
   ]
  },
  {
   "cell_type": "code",
   "execution_count": 2,
   "id": "b62ab84e",
   "metadata": {},
   "outputs": [
    {
     "name": "stdout",
     "output_type": "stream",
     "text": [
      "Welcome to the XYZ Company.\n",
      "Pick Your Designation: \n",
      "1. Programmer - 25K\n",
      "2. Manager   - 30K\n",
      "3. Tester    - 20K\n",
      "Thank you for visiting XYZ Company.\n"
     ]
    },
    {
     "data": {
      "text/plain": [
       "<__main__.Company at 0x1a44fef77c0>"
      ]
     },
     "execution_count": 2,
     "metadata": {},
     "output_type": "execute_result"
    }
   ],
   "source": [
    "# 1.Create 2.Display 3.Raise 4.Exit\n",
    "# 1.- Enter the Name, Age, Designation(Programmer - 25K, Manager-30K, Tester-20K), Continue(Y/N)\n",
    "# 2.- Display Name, Age, Salary, Desiganation\n",
    "\n",
    "class Company:\n",
    "    def __init__(self):\n",
    "        print(\"Welcome to the XYZ Company.\")\n",
    "        self.employee = {} \n",
    "        self.personal_info()\n",
    "\n",
    "    def personal_info(self):\n",
    "        name = input(\"Enter Your Name: \")\n",
    "        age = int(input(\"Enter Your Age: \"))\n",
    "        print(\"Pick Your Designation: \")\n",
    "        print(\"1. Programmer - 25K\")\n",
    "        print(\"2. Manager   - 30K\")\n",
    "        print(\"3. Tester    - 20K\")\n",
    "        choice = int(input(\"Enter choice (1-3): \"))\n",
    "\n",
    "        if choice == 1:\n",
    "            designation = \"Programmer\"\n",
    "            salary = 25000\n",
    "        elif choice == 2:\n",
    "            designation = \"Manager\"\n",
    "            salary = 30000\n",
    "        elif choice == 3:\n",
    "            designation = \"Tester\"\n",
    "            salary = 20000\n",
    "        else:\n",
    "            print(\"Invalid choice. Exiting.\")\n",
    "            exit()\n",
    "\n",
    "        self.employee = {\n",
    "            'Name': name,\n",
    "            'Age': age,\n",
    "            'Designation': designation,\n",
    "            'Salary': salary\n",
    "        }\n",
    "\n",
    "        cont = input(\"Do you want to proceed for further actions? (Y/N): \")\n",
    "        if cont.lower() == 'y':\n",
    "            self.menu()\n",
    "        else:\n",
    "            print(\"Thank you for visiting XYZ Company.\")\n",
    "\n",
    "    def display_info(self):\n",
    "        print(\"\\nEmployee Details:\")\n",
    "        print(\"Name: \",  self.employee['Name'])\n",
    "        print(\"Age: \", self.employee['Age'])\n",
    "        print(\"Designation: \", self.employee['Designation'])\n",
    "        print(\"Salary: \", self.employee['Salary'])\n",
    "\n",
    "    def raise_salary(self):\n",
    "        amount = int(input(\"Enter the amount to raise your salary: \"))\n",
    "        self.employee['Salary'] += amount\n",
    "        print(f\"Salary updated. New Salary: {self.employee['Salary']}\")\n",
    "\n",
    "    def menu(self):\n",
    "        while True:\n",
    "            print(\"\\n1. Display\\n2. Raise Salary\\n3. Exit\")\n",
    "            choice = input(\"Enter your choice: \")\n",
    "\n",
    "            if choice == '1':\n",
    "                self.display_info()\n",
    "            elif choice == '2':\n",
    "                self.raise_salary()\n",
    "            elif choice == '3':\n",
    "                print(\"Thank you for using XYZ Company System.\")\n",
    "                break\n",
    "            else:\n",
    "                print(\"Invalid choice. Try again.\")\n",
    "Company()"
   ]
  }
 ],
 "metadata": {
  "kernelspec": {
   "display_name": "Python 3",
   "language": "python",
   "name": "python3"
  },
  "language_info": {
   "codemirror_mode": {
    "name": "ipython",
    "version": 3
   },
   "file_extension": ".py",
   "mimetype": "text/x-python",
   "name": "python",
   "nbconvert_exporter": "python",
   "pygments_lexer": "ipython3",
   "version": "3.10.0"
  }
 },
 "nbformat": 4,
 "nbformat_minor": 5
}
